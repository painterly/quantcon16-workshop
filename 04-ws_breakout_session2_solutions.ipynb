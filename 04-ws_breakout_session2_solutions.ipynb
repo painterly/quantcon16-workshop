{
 "cells": [
  {
   "cell_type": "markdown",
   "metadata": {},
   "source": [
    "## Intro to Python for Data Analysis"
   ]
  },
  {
   "cell_type": "markdown",
   "metadata": {},
   "source": [
    "### Break out session 2"
   ]
  },
  {
   "cell_type": "markdown",
   "metadata": {},
   "source": [
    "In this breakout session, you will explore some data from the Guardian(theguardian.com) that provides some\n",
    "data about key indicators by country from the World Economic Forum in 2013. They also have an open data explorer at http://open-platform.theguardian.com."
   ]
  },
  {
   "cell_type": "markdown",
   "metadata": {},
   "source": [
    "Import libraries."
   ]
  },
  {
   "cell_type": "code",
   "execution_count": 1,
   "metadata": {
    "collapsed": true
   },
   "outputs": [],
   "source": [
    "import numpy as np\n",
    "import pandas as pd"
   ]
  },
  {
   "cell_type": "markdown",
   "metadata": {},
   "source": [
    "### Examine the data"
   ]
  },
  {
   "cell_type": "markdown",
   "metadata": {},
   "source": [
    "Read in the wef csv data and look at the first five rows."
   ]
  },
  {
   "cell_type": "code",
   "execution_count": 2,
   "metadata": {
    "collapsed": false
   },
   "outputs": [
    {
     "data": {
      "text/html": [
       "<div>\n",
       "<table border=\"1\" class=\"dataframe\">\n",
       "  <thead>\n",
       "    <tr style=\"text-align: right;\">\n",
       "      <th></th>\n",
       "      <th>Country</th>\n",
       "      <th>Emissions (tonnes per capita)</th>\n",
       "      <th>Unemployment rate (%)</th>\n",
       "      <th>GDP growth (%)</th>\n",
       "      <th>Government debt (% of GDP)</th>\n",
       "      <th>Gini coefficient</th>\n",
       "    </tr>\n",
       "  </thead>\n",
       "  <tbody>\n",
       "    <tr>\n",
       "      <th>0</th>\n",
       "      <td>Australia</td>\n",
       "      <td>18.23</td>\n",
       "      <td>5.2</td>\n",
       "      <td>1.91</td>\n",
       "      <td>29.32</td>\n",
       "      <td>0.34</td>\n",
       "    </tr>\n",
       "    <tr>\n",
       "      <th>1</th>\n",
       "      <td>Austria</td>\n",
       "      <td>7.45</td>\n",
       "      <td>4.4</td>\n",
       "      <td>2.70</td>\n",
       "      <td>74.04</td>\n",
       "      <td>0.26</td>\n",
       "    </tr>\n",
       "    <tr>\n",
       "      <th>2</th>\n",
       "      <td>Belgium</td>\n",
       "      <td>9.60</td>\n",
       "      <td>8.3</td>\n",
       "      <td>1.78</td>\n",
       "      <td>91.40</td>\n",
       "      <td>0.26</td>\n",
       "    </tr>\n",
       "    <tr>\n",
       "      <th>3</th>\n",
       "      <td>Brazil</td>\n",
       "      <td>1.90</td>\n",
       "      <td>8.3</td>\n",
       "      <td>2.73</td>\n",
       "      <td>52.21</td>\n",
       "      <td>0.55</td>\n",
       "    </tr>\n",
       "    <tr>\n",
       "      <th>4</th>\n",
       "      <td>Canada</td>\n",
       "      <td>15.24</td>\n",
       "      <td>8.0</td>\n",
       "      <td>2.46</td>\n",
       "      <td>52.63</td>\n",
       "      <td>0.32</td>\n",
       "    </tr>\n",
       "  </tbody>\n",
       "</table>\n",
       "</div>"
      ],
      "text/plain": [
       "     Country  Emissions (tonnes per capita)  Unemployment rate (%)  \\\n",
       "0  Australia                          18.23                    5.2   \n",
       "1    Austria                           7.45                    4.4   \n",
       "2    Belgium                           9.60                    8.3   \n",
       "3     Brazil                           1.90                    8.3   \n",
       "4     Canada                          15.24                    8.0   \n",
       "\n",
       "   GDP growth (%)  Government debt (% of GDP)  Gini coefficient  \n",
       "0            1.91                       29.32              0.34  \n",
       "1            2.70                       74.04              0.26  \n",
       "2            1.78                       91.40              0.26  \n",
       "3            2.73                       52.21              0.55  \n",
       "4            2.46                       52.63              0.32  "
      ]
     },
     "execution_count": 2,
     "metadata": {},
     "output_type": "execute_result"
    }
   ],
   "source": [
    "wef = pd.read_csv('wef.csv')\n",
    "wef.head()"
   ]
  },
  {
   "cell_type": "markdown",
   "metadata": {},
   "source": [
    "Print the column names"
   ]
  },
  {
   "cell_type": "code",
   "execution_count": 3,
   "metadata": {
    "collapsed": false
   },
   "outputs": [
    {
     "data": {
      "text/plain": [
       "Index(['Country', 'Emissions (tonnes per capita)', 'Unemployment rate (%)',\n",
       "       'GDP growth (%)', 'Government debt (% of GDP)', 'Gini coefficient'],\n",
       "      dtype='object')"
      ]
     },
     "execution_count": 3,
     "metadata": {},
     "output_type": "execute_result"
    }
   ],
   "source": [
    "wef.columns"
   ]
  },
  {
   "cell_type": "markdown",
   "metadata": {},
   "source": [
    "How many rows are in the dataset?"
   ]
  },
  {
   "cell_type": "code",
   "execution_count": 4,
   "metadata": {
    "collapsed": false
   },
   "outputs": [
    {
     "data": {
      "text/plain": [
       "39"
      ]
     },
     "execution_count": 4,
     "metadata": {},
     "output_type": "execute_result"
    }
   ],
   "source": [
    "len(wef)"
   ]
  },
  {
   "cell_type": "markdown",
   "metadata": {},
   "source": [
    "Make the column names lower case using a lambda function"
   ]
  },
  {
   "cell_type": "code",
   "execution_count": 5,
   "metadata": {
    "collapsed": false
   },
   "outputs": [
    {
     "data": {
      "text/html": [
       "<div>\n",
       "<table border=\"1\" class=\"dataframe\">\n",
       "  <thead>\n",
       "    <tr style=\"text-align: right;\">\n",
       "      <th></th>\n",
       "      <th>country</th>\n",
       "      <th>emissions (tonnes per capita)</th>\n",
       "      <th>unemployment rate (%)</th>\n",
       "      <th>gdp growth (%)</th>\n",
       "      <th>government debt (% of gdp)</th>\n",
       "      <th>gini coefficient</th>\n",
       "    </tr>\n",
       "  </thead>\n",
       "  <tbody>\n",
       "    <tr>\n",
       "      <th>0</th>\n",
       "      <td>Australia</td>\n",
       "      <td>18.23</td>\n",
       "      <td>5.2</td>\n",
       "      <td>1.91</td>\n",
       "      <td>29.32</td>\n",
       "      <td>0.34</td>\n",
       "    </tr>\n",
       "    <tr>\n",
       "      <th>1</th>\n",
       "      <td>Austria</td>\n",
       "      <td>7.45</td>\n",
       "      <td>4.4</td>\n",
       "      <td>2.70</td>\n",
       "      <td>74.04</td>\n",
       "      <td>0.26</td>\n",
       "    </tr>\n",
       "  </tbody>\n",
       "</table>\n",
       "</div>"
      ],
      "text/plain": [
       "     country  emissions (tonnes per capita)  unemployment rate (%)  \\\n",
       "0  Australia                          18.23                    5.2   \n",
       "1    Austria                           7.45                    4.4   \n",
       "\n",
       "   gdp growth (%)  government debt (% of gdp)  gini coefficient  \n",
       "0            1.91                       29.32              0.34  \n",
       "1            2.70                       74.04              0.26  "
      ]
     },
     "execution_count": 5,
     "metadata": {},
     "output_type": "execute_result"
    }
   ],
   "source": [
    "wef.columns = wef.columns.map(lambda x: x.lower())\n",
    "wef.head(2)"
   ]
  },
  {
   "cell_type": "markdown",
   "metadata": {},
   "source": [
    "Use the cut method to assign unemployment rate to four buckets and then obtain the value counts"
   ]
  },
  {
   "cell_type": "code",
   "execution_count": 6,
   "metadata": {
    "collapsed": false
   },
   "outputs": [
    {
     "data": {
      "text/plain": [
       "(3.58, 8.65]     27\n",
       "(8.65, 13.7]      8\n",
       "(18.75, 23.8]     2\n",
       "(13.7, 18.75]     2\n",
       "dtype: int64"
      ]
     },
     "execution_count": 6,
     "metadata": {},
     "output_type": "execute_result"
    }
   ],
   "source": [
    "employrateranges = pd.cut(wef['unemployment rate (%)'], 4)\n",
    "pd.value_counts(employrateranges)"
   ]
  },
  {
   "cell_type": "markdown",
   "metadata": {},
   "source": [
    "Add a column to the dataframe called employrateranges(created above)."
   ]
  },
  {
   "cell_type": "code",
   "execution_count": 7,
   "metadata": {
    "collapsed": false
   },
   "outputs": [
    {
     "data": {
      "text/html": [
       "<div>\n",
       "<table border=\"1\" class=\"dataframe\">\n",
       "  <thead>\n",
       "    <tr style=\"text-align: right;\">\n",
       "      <th></th>\n",
       "      <th>country</th>\n",
       "      <th>emissions (tonnes per capita)</th>\n",
       "      <th>unemployment rate (%)</th>\n",
       "      <th>gdp growth (%)</th>\n",
       "      <th>government debt (% of gdp)</th>\n",
       "      <th>gini coefficient</th>\n",
       "      <th>employrateranges</th>\n",
       "    </tr>\n",
       "  </thead>\n",
       "  <tbody>\n",
       "    <tr>\n",
       "      <th>0</th>\n",
       "      <td>Australia</td>\n",
       "      <td>18.23</td>\n",
       "      <td>5.2</td>\n",
       "      <td>1.91</td>\n",
       "      <td>29.32</td>\n",
       "      <td>0.34</td>\n",
       "      <td>(3.58, 8.65]</td>\n",
       "    </tr>\n",
       "    <tr>\n",
       "      <th>1</th>\n",
       "      <td>Austria</td>\n",
       "      <td>7.45</td>\n",
       "      <td>4.4</td>\n",
       "      <td>2.70</td>\n",
       "      <td>74.04</td>\n",
       "      <td>0.26</td>\n",
       "      <td>(3.58, 8.65]</td>\n",
       "    </tr>\n",
       "  </tbody>\n",
       "</table>\n",
       "</div>"
      ],
      "text/plain": [
       "     country  emissions (tonnes per capita)  unemployment rate (%)  \\\n",
       "0  Australia                          18.23                    5.2   \n",
       "1    Austria                           7.45                    4.4   \n",
       "\n",
       "   gdp growth (%)  government debt (% of gdp)  gini coefficient  \\\n",
       "0            1.91                       29.32              0.34   \n",
       "1            2.70                       74.04              0.26   \n",
       "\n",
       "  employrateranges  \n",
       "0     (3.58, 8.65]  \n",
       "1     (3.58, 8.65]  "
      ]
     },
     "execution_count": 7,
     "metadata": {},
     "output_type": "execute_result"
    }
   ],
   "source": [
    "wef['employrateranges'] = employrateranges\n",
    "wef.head(2)"
   ]
  },
  {
   "cell_type": "markdown",
   "metadata": {},
   "source": [
    "Index into the first three columns of the first row"
   ]
  },
  {
   "cell_type": "code",
   "execution_count": 8,
   "metadata": {
    "collapsed": false
   },
   "outputs": [
    {
     "data": {
      "text/plain": [
       "country                          Australia\n",
       "emissions (tonnes per capita)        18.23\n",
       "unemployment rate (%)                  5.2\n",
       "Name: 0, dtype: object"
      ]
     },
     "execution_count": 8,
     "metadata": {},
     "output_type": "execute_result"
    }
   ],
   "source": [
    "wef.iloc[0,0:3]"
   ]
  },
  {
   "cell_type": "markdown",
   "metadata": {},
   "source": [
    "Slice into the first five rows of unemployment rate"
   ]
  },
  {
   "cell_type": "code",
   "execution_count": 9,
   "metadata": {
    "collapsed": false
   },
   "outputs": [
    {
     "data": {
      "text/plain": [
       "0    5.2\n",
       "1    4.4\n",
       "2    8.3\n",
       "3    8.3\n",
       "4    8.0\n",
       "Name: unemployment rate (%), dtype: float64"
      ]
     },
     "execution_count": 9,
     "metadata": {},
     "output_type": "execute_result"
    }
   ],
   "source": [
    "wef['unemployment rate (%)'][:5]"
   ]
  },
  {
   "cell_type": "markdown",
   "metadata": {},
   "source": [
    "Sort unemployment rate and return the first ten values in ascending order"
   ]
  },
  {
   "cell_type": "code",
   "execution_count": 10,
   "metadata": {
    "collapsed": false
   },
   "outputs": [
    {
     "data": {
      "text/plain": [
       "26    3.6\n",
       "21    3.7\n",
       "35    4.2\n",
       "6     4.3\n",
       "1     4.4\n",
       "22    4.4\n",
       "16    4.4\n",
       "24    4.5\n",
       "20    5.0\n",
       "0     5.2\n",
       "Name: unemployment rate (%), dtype: float64"
      ]
     },
     "execution_count": 10,
     "metadata": {},
     "output_type": "execute_result"
    }
   ],
   "source": [
    "wef['unemployment rate (%)'].sort_values()[:10]"
   ]
  },
  {
   "cell_type": "markdown",
   "metadata": {},
   "source": [
    "Return value counts for the gini coefficient"
   ]
  },
  {
   "cell_type": "code",
   "execution_count": 11,
   "metadata": {
    "collapsed": false
   },
   "outputs": [
    {
     "data": {
      "text/plain": [
       "0.26    6\n",
       "0.29    4\n",
       "0.32    4\n",
       "0.34    3\n",
       "0.33    3\n",
       "0.30    3\n",
       "0.25    2\n",
       "0.31    2\n",
       "0.37    1\n",
       "0.35    1\n",
       "0.40    1\n",
       "0.24    1\n",
       "0.48    1\n",
       "0.27    1\n",
       "0.63    1\n",
       "0.47    1\n",
       "0.49    1\n",
       "0.55    1\n",
       "0.38    1\n",
       "0.41    1\n",
       "Name: gini coefficient, dtype: int64"
      ]
     },
     "execution_count": 11,
     "metadata": {},
     "output_type": "execute_result"
    }
   ],
   "source": [
    "wef['gini coefficient'].value_counts()"
   ]
  },
  {
   "cell_type": "markdown",
   "metadata": {
    "collapsed": true
   },
   "source": [
    "Return a boolean value indicating if all values for unemployment rate are above 5.2 percent"
   ]
  },
  {
   "cell_type": "code",
   "execution_count": 12,
   "metadata": {
    "collapsed": false
   },
   "outputs": [
    {
     "data": {
      "text/plain": [
       "False"
      ]
     },
     "execution_count": 12,
     "metadata": {},
     "output_type": "execute_result"
    }
   ],
   "source": [
    "(wef.ix[0:9,'unemployment rate (%)'] > 5.2).all()"
   ]
  },
  {
   "cell_type": "markdown",
   "metadata": {},
   "source": [
    "Return a dataframe where unemployment rate is greater than 10 and the gini coefficient is greater then .2. Only display these two columns."
   ]
  },
  {
   "cell_type": "code",
   "execution_count": 13,
   "metadata": {
    "collapsed": false
   },
   "outputs": [
    {
     "data": {
      "text/html": [
       "<div>\n",
       "<table border=\"1\" class=\"dataframe\">\n",
       "  <thead>\n",
       "    <tr style=\"text-align: right;\">\n",
       "      <th></th>\n",
       "      <th>unemployment rate (%)</th>\n",
       "      <th>gini coefficient</th>\n",
       "    </tr>\n",
       "  </thead>\n",
       "  <tbody>\n",
       "    <tr>\n",
       "      <th>9</th>\n",
       "      <td>16.9</td>\n",
       "      <td>0.32</td>\n",
       "    </tr>\n",
       "    <tr>\n",
       "      <th>13</th>\n",
       "      <td>12.5</td>\n",
       "      <td>0.31</td>\n",
       "    </tr>\n",
       "    <tr>\n",
       "      <th>14</th>\n",
       "      <td>11.2</td>\n",
       "      <td>0.27</td>\n",
       "    </tr>\n",
       "    <tr>\n",
       "      <th>17</th>\n",
       "      <td>13.5</td>\n",
       "      <td>0.29</td>\n",
       "    </tr>\n",
       "    <tr>\n",
       "      <th>28</th>\n",
       "      <td>10.8</td>\n",
       "      <td>0.35</td>\n",
       "    </tr>\n",
       "    <tr>\n",
       "      <th>30</th>\n",
       "      <td>14.4</td>\n",
       "      <td>0.26</td>\n",
       "    </tr>\n",
       "    <tr>\n",
       "      <th>32</th>\n",
       "      <td>23.8</td>\n",
       "      <td>0.63</td>\n",
       "    </tr>\n",
       "    <tr>\n",
       "      <th>33</th>\n",
       "      <td>20.1</td>\n",
       "      <td>0.32</td>\n",
       "    </tr>\n",
       "    <tr>\n",
       "      <th>36</th>\n",
       "      <td>11.9</td>\n",
       "      <td>0.41</td>\n",
       "    </tr>\n",
       "  </tbody>\n",
       "</table>\n",
       "</div>"
      ],
      "text/plain": [
       "    unemployment rate (%)  gini coefficient\n",
       "9                    16.9              0.32\n",
       "13                   12.5              0.31\n",
       "14                   11.2              0.27\n",
       "17                   13.5              0.29\n",
       "28                   10.8              0.35\n",
       "30                   14.4              0.26\n",
       "32                   23.8              0.63\n",
       "33                   20.1              0.32\n",
       "36                   11.9              0.41"
      ]
     },
     "execution_count": 13,
     "metadata": {},
     "output_type": "execute_result"
    }
   ],
   "source": [
    "wef[(wef['unemployment rate (%)'] > 10) & (wef['gini coefficient'] > .20)][['unemployment rate (%)', 'gini coefficient']]"
   ]
  },
  {
   "cell_type": "markdown",
   "metadata": {},
   "source": [
    "Return the first ten rows of a dataframe where unemployment rate is greater than 10 or the gini coefficient is greater then .2. Return a dataframe\n",
    "with country,unemployment rate, and gini coefficient columns."
   ]
  },
  {
   "cell_type": "code",
   "execution_count": 14,
   "metadata": {
    "collapsed": false
   },
   "outputs": [
    {
     "data": {
      "text/html": [
       "<div>\n",
       "<table border=\"1\" class=\"dataframe\">\n",
       "  <thead>\n",
       "    <tr style=\"text-align: right;\">\n",
       "      <th></th>\n",
       "      <th>country</th>\n",
       "      <th>unemployment rate (%)</th>\n",
       "      <th>gini coefficient</th>\n",
       "    </tr>\n",
       "  </thead>\n",
       "  <tbody>\n",
       "    <tr>\n",
       "      <th>0</th>\n",
       "      <td>Australia</td>\n",
       "      <td>5.2</td>\n",
       "      <td>0.34</td>\n",
       "    </tr>\n",
       "    <tr>\n",
       "      <th>1</th>\n",
       "      <td>Austria</td>\n",
       "      <td>4.4</td>\n",
       "      <td>0.26</td>\n",
       "    </tr>\n",
       "    <tr>\n",
       "      <th>2</th>\n",
       "      <td>Belgium</td>\n",
       "      <td>8.3</td>\n",
       "      <td>0.26</td>\n",
       "    </tr>\n",
       "    <tr>\n",
       "      <th>3</th>\n",
       "      <td>Brazil</td>\n",
       "      <td>8.3</td>\n",
       "      <td>0.55</td>\n",
       "    </tr>\n",
       "    <tr>\n",
       "      <th>4</th>\n",
       "      <td>Canada</td>\n",
       "      <td>8.0</td>\n",
       "      <td>0.32</td>\n",
       "    </tr>\n",
       "    <tr>\n",
       "      <th>5</th>\n",
       "      <td>Chile</td>\n",
       "      <td>8.1</td>\n",
       "      <td>0.49</td>\n",
       "    </tr>\n",
       "    <tr>\n",
       "      <th>6</th>\n",
       "      <td>China</td>\n",
       "      <td>4.3</td>\n",
       "      <td>0.47</td>\n",
       "    </tr>\n",
       "    <tr>\n",
       "      <th>7</th>\n",
       "      <td>Czech Republic</td>\n",
       "      <td>7.3</td>\n",
       "      <td>0.26</td>\n",
       "    </tr>\n",
       "    <tr>\n",
       "      <th>8</th>\n",
       "      <td>Denmark</td>\n",
       "      <td>7.4</td>\n",
       "      <td>0.25</td>\n",
       "    </tr>\n",
       "    <tr>\n",
       "      <th>9</th>\n",
       "      <td>Estonia</td>\n",
       "      <td>16.9</td>\n",
       "      <td>0.32</td>\n",
       "    </tr>\n",
       "  </tbody>\n",
       "</table>\n",
       "</div>"
      ],
      "text/plain": [
       "          country  unemployment rate (%)  gini coefficient\n",
       "0       Australia                    5.2              0.34\n",
       "1         Austria                    4.4              0.26\n",
       "2         Belgium                    8.3              0.26\n",
       "3          Brazil                    8.3              0.55\n",
       "4          Canada                    8.0              0.32\n",
       "5           Chile                    8.1              0.49\n",
       "6           China                    4.3              0.47\n",
       "7  Czech Republic                    7.3              0.26\n",
       "8         Denmark                    7.4              0.25\n",
       "9         Estonia                   16.9              0.32"
      ]
     },
     "execution_count": 14,
     "metadata": {},
     "output_type": "execute_result"
    }
   ],
   "source": [
    "wef[(wef['unemployment rate (%)'] > 10) | (wef['gini coefficient'] > .20)][['country','unemployment rate (%)', 'gini coefficient']][:10]"
   ]
  },
  {
   "cell_type": "markdown",
   "metadata": {},
   "source": [
    "Are any of the values for gdp growth null?"
   ]
  },
  {
   "cell_type": "code",
   "execution_count": 15,
   "metadata": {
    "collapsed": false
   },
   "outputs": [
    {
     "data": {
      "text/plain": [
       "0"
      ]
     },
     "execution_count": 15,
     "metadata": {},
     "output_type": "execute_result"
    }
   ],
   "source": [
    "wef['gdp growth (%)'].isnull().sum()"
   ]
  },
  {
   "cell_type": "markdown",
   "metadata": {
    "collapsed": true
   },
   "source": [
    "Obtain a summary of descriptive statistics for the dataset"
   ]
  },
  {
   "cell_type": "code",
   "execution_count": 16,
   "metadata": {
    "collapsed": false
   },
   "outputs": [
    {
     "data": {
      "text/html": [
       "<div>\n",
       "<table border=\"1\" class=\"dataframe\">\n",
       "  <thead>\n",
       "    <tr style=\"text-align: right;\">\n",
       "      <th></th>\n",
       "      <th>emissions (tonnes per capita)</th>\n",
       "      <th>unemployment rate (%)</th>\n",
       "      <th>gdp growth (%)</th>\n",
       "      <th>government debt (% of gdp)</th>\n",
       "      <th>gini coefficient</th>\n",
       "    </tr>\n",
       "  </thead>\n",
       "  <tbody>\n",
       "    <tr>\n",
       "      <th>count</th>\n",
       "      <td>39.000000</td>\n",
       "      <td>39.000000</td>\n",
       "      <td>39.000000</td>\n",
       "      <td>31.000000</td>\n",
       "      <td>39.000000</td>\n",
       "    </tr>\n",
       "    <tr>\n",
       "      <th>mean</th>\n",
       "      <td>8.401026</td>\n",
       "      <td>8.602564</td>\n",
       "      <td>2.510000</td>\n",
       "      <td>63.842258</td>\n",
       "      <td>0.335128</td>\n",
       "    </tr>\n",
       "    <tr>\n",
       "      <th>std</th>\n",
       "      <td>4.082954</td>\n",
       "      <td>4.417459</td>\n",
       "      <td>2.896838</td>\n",
       "      <td>37.120178</td>\n",
       "      <td>0.086659</td>\n",
       "    </tr>\n",
       "    <tr>\n",
       "      <th>min</th>\n",
       "      <td>1.640000</td>\n",
       "      <td>3.600000</td>\n",
       "      <td>-7.100000</td>\n",
       "      <td>9.140000</td>\n",
       "      <td>0.240000</td>\n",
       "    </tr>\n",
       "    <tr>\n",
       "      <th>25%</th>\n",
       "      <td>5.690000</td>\n",
       "      <td>5.250000</td>\n",
       "      <td>1.045000</td>\n",
       "      <td>41.580000</td>\n",
       "      <td>0.280000</td>\n",
       "    </tr>\n",
       "    <tr>\n",
       "      <th>50%</th>\n",
       "      <td>7.830000</td>\n",
       "      <td>7.800000</td>\n",
       "      <td>1.930000</td>\n",
       "      <td>52.210000</td>\n",
       "      <td>0.320000</td>\n",
       "    </tr>\n",
       "    <tr>\n",
       "      <th>75%</th>\n",
       "      <td>10.075000</td>\n",
       "      <td>9.600000</td>\n",
       "      <td>3.755000</td>\n",
       "      <td>85.540000</td>\n",
       "      <td>0.345000</td>\n",
       "    </tr>\n",
       "    <tr>\n",
       "      <th>max</th>\n",
       "      <td>20.380000</td>\n",
       "      <td>23.800000</td>\n",
       "      <td>9.300000</td>\n",
       "      <td>174.980000</td>\n",
       "      <td>0.630000</td>\n",
       "    </tr>\n",
       "  </tbody>\n",
       "</table>\n",
       "</div>"
      ],
      "text/plain": [
       "       emissions (tonnes per capita)  unemployment rate (%)  gdp growth (%)  \\\n",
       "count                      39.000000              39.000000       39.000000   \n",
       "mean                        8.401026               8.602564        2.510000   \n",
       "std                         4.082954               4.417459        2.896838   \n",
       "min                         1.640000               3.600000       -7.100000   \n",
       "25%                         5.690000               5.250000        1.045000   \n",
       "50%                         7.830000               7.800000        1.930000   \n",
       "75%                        10.075000               9.600000        3.755000   \n",
       "max                        20.380000              23.800000        9.300000   \n",
       "\n",
       "       government debt (% of gdp)  gini coefficient  \n",
       "count                   31.000000         39.000000  \n",
       "mean                    63.842258          0.335128  \n",
       "std                     37.120178          0.086659  \n",
       "min                      9.140000          0.240000  \n",
       "25%                     41.580000          0.280000  \n",
       "50%                     52.210000          0.320000  \n",
       "75%                     85.540000          0.345000  \n",
       "max                    174.980000          0.630000  "
      ]
     },
     "execution_count": 16,
     "metadata": {},
     "output_type": "execute_result"
    }
   ],
   "source": [
    "wef.describe()"
   ]
  },
  {
   "cell_type": "markdown",
   "metadata": {},
   "source": [
    "Display a bar plot of mean gdp growth by country with Pandas."
   ]
  },
  {
   "cell_type": "code",
   "execution_count": 18,
   "metadata": {
    "collapsed": false
   },
   "outputs": [
    {
     "data": {
      "text/plain": [
       "<matplotlib.axes._subplots.AxesSubplot at 0x7fd568c962e8>"
      ]
     },
     "execution_count": 18,
     "metadata": {},
     "output_type": "execute_result"
    },
    {
     "data": {
      "image/png": "[encoded data removed]",
      "text/plain": [
       "<matplotlib.figure.Figure at 0x7fd5808352e8>"
      ]
     },
     "metadata": {},
     "output_type": "display_data"
    }
   ],
   "source": [
    "%matplotlib inline\n",
    "import seaborn as sns\n",
    "wef.groupby(['country'])['gdp growth (%)'].mean().plot(kind=\"bar\")"
   ]
  },
  {
   "cell_type": "code",
   "execution_count": null,
   "metadata": {
    "collapsed": true
   },
   "outputs": [],
   "source": []
  }
 ],
 "metadata": {
  "kernelspec": {
   "display_name": "Python 3",
   "language": "python",
   "name": "python3"
  },
  "language_info": {
   "codemirror_mode": {
    "name": "ipython",
    "version": 3
   },
   "file_extension": ".py",
   "mimetype": "text/x-python",
   "name": "python",
   "nbconvert_exporter": "python",
   "pygments_lexer": "ipython3",
   "version": "3.4.4"
  }
 },
 "nbformat": 4,
 "nbformat_minor": 0
}
